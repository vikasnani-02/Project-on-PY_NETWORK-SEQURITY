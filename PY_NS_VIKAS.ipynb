{
  "nbformat": 4,
  "nbformat_minor": 0,
  "metadata": {
    "colab": {
      "name": "PY_NS_VIKAS.ipynb",
      "provenance": []
    },
    "kernelspec": {
      "name": "python3",
      "display_name": "Python 3"
    },
    "language_info": {
      "name": "python"
    }
  },
  "cells": [
    {
      "cell_type": "code",
      "metadata": {
        "colab": {
          "base_uri": "https://localhost:8080/"
        },
        "id": "qsvnMizmH5fw",
        "outputId": "5c28ab6f-33af-413f-85af-445a889937d9"
      },
      "source": [
        "import hashlib\n",
        "\n",
        "\n",
        "given_str = b\"Hello world\"\n",
        "given_str_2 = b\"Hello world !!\"\n",
        "\n",
        "\n",
        "md5_value = hashlib.md5(given_str)\n",
        "md5_value_2 = hashlib.md5(given_str_2)\n",
        "\n",
        "\n",
        "print(md5_value.hexdigest())\n",
        "print(md5_value_2.hexdigest())"
      ],
      "execution_count": 17,
      "outputs": [
        {
          "output_type": "stream",
          "text": [
            "3e25960a79dbc69b674cd4ec67a72c62\n",
            "10f73d16d32cf89e1f7cab7589be965b\n"
          ],
          "name": "stdout"
        }
      ]
    },
    {
      "cell_type": "code",
      "metadata": {
        "colab": {
          "base_uri": "https://localhost:8080/"
        },
        "id": "sGEcig81HMsX",
        "outputId": "1e08f5be-d4f6-4d71-88d7-de0f8eeba808"
      },
      "source": [
        "import hashlib\n",
        "  \n",
        "result = hashlib.md5(b'GeeksforGeeks')\n",
        "  \n",
        "print(\"The byte equivalent of hash is : \", end =\"\")\n",
        "print(result.digest())"
      ],
      "execution_count": 16,
      "outputs": [
        {
          "output_type": "stream",
          "text": [
            "The byte equivalent of hash is : b'\\xf1\\xe0ix~\\xcetS\\x1d\\x11%Y\\x94\\\\hq'\n"
          ],
          "name": "stdout"
        }
      ]
    }
  ]
}